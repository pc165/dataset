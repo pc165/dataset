{
 "cells": [
  {
   "cell_type": "code",
   "execution_count": null,
   "metadata": {},
   "outputs": [],
   "source": [
    "!git clone https://github.com/ultralytics/yolov5\r\n",
    "!git clone https://github.com/p014/dataset"
   ]
  },
  {
   "cell_type": "code",
   "execution_count": null,
   "metadata": {},
   "outputs": [],
   "source": [
    "%cd /content/dataset\r\n",
    "%rm -rf /content/dataset/*/images/*\r\n",
    "%rm -rf /content/dataset/*/labels/*\r\n",
    "\r\n",
    "!python ./createDataset.py\r\n",
    "\r\n",
    "%cd /content/yolov5\r\n",
    "\r\n",
    "%pip install -qr requirements.txt  # install dependencies\r\n",
    "%pip install -q wandb\r\n",
    "\r\n",
    "import torch\r\n",
    "from IPython.display import Image, clear_output  # to display images\r\n",
    "import wandb\r\n",
    "\r\n",
    "wandb.login()\r\n",
    "!python train.py --img 640  --batch 16 --epochs 150 --data ../dataset/data.yaml --weights yolov5m.pt --nosave --cache"
   ]
  },
  {
   "cell_type": "code",
   "execution_count": null,
   "metadata": {},
   "outputs": [],
   "source": []
  }
 ],
 "metadata": {
  "kernelspec": {
   "display_name": "Python 3.9.4 64-bit",
   "name": "python394jvsc74a57bd0ac59ebe37160ed0dfa835113d9b8498d9f09ceb179beaac4002f036b9467c963"
  },
  "language_info": {
   "name": "python",
   "version": ""
  },
  "orig_nbformat": 2
 },
 "nbformat": 4,
 "nbformat_minor": 2
}